{
 "cells": [
  {
   "cell_type": "code",
   "execution_count": 34,
   "metadata": {},
   "outputs": [],
   "source": [
    "import pandas as pd\n",
    "import numpy as np\n",
    "import matplotlib.pyplot as plt\n",
    "\n",
    "data = pd.read_csv(\"/Users/tangmeiling/Documents/1-魔蝎/work/Analysis/0-analysis_data/z-apollo_mz_all_duotou_tenant_desc_zhongan_201906_feature_all_1.csv\")"
   ]
  },
  {
   "cell_type": "code",
   "execution_count": 35,
   "metadata": {},
   "outputs": [
    {
     "name": "stdout",
     "output_type": "stream",
     "text": [
      "(247544, 465)\n"
     ]
    },
    {
     "data": {
      "text/html": [
       "<div>\n",
       "<style scoped>\n",
       "    .dataframe tbody tr th:only-of-type {\n",
       "        vertical-align: middle;\n",
       "    }\n",
       "\n",
       "    .dataframe tbody tr th {\n",
       "        vertical-align: top;\n",
       "    }\n",
       "\n",
       "    .dataframe thead th {\n",
       "        text-align: right;\n",
       "    }\n",
       "</style>\n",
       "<table border=\"1\" class=\"dataframe\">\n",
       "  <thead>\n",
       "    <tr style=\"text-align: right;\">\n",
       "      <th></th>\n",
       "      <th>user_id</th>\n",
       "      <th>org_count</th>\n",
       "      <th>org_count_1d</th>\n",
       "      <th>org_count_3d</th>\n",
       "      <th>org_count_5d</th>\n",
       "      <th>org_count_7d</th>\n",
       "      <th>org_count_15d</th>\n",
       "      <th>org_count_30d</th>\n",
       "      <th>org_count_60d</th>\n",
       "      <th>org_count_90d</th>\n",
       "      <th>...</th>\n",
       "      <th>no_lic_inquiry_detail_org_count_ratio_3d</th>\n",
       "      <th>no_lic_inquiry_detail_org_count_ratio_5d</th>\n",
       "      <th>no_lic_inquiry_detail_org_count_ratio_7d</th>\n",
       "      <th>no_lic_inquiry_detail_org_count_ratio_15d</th>\n",
       "      <th>no_lic_inquiry_detail_org_count_ratio_30d</th>\n",
       "      <th>no_lic_inquiry_detail_org_count_ratio_60d</th>\n",
       "      <th>no_lic_inquiry_detail_org_count_ratio_90d</th>\n",
       "      <th>no_lic_inquiry_detail_org_count_ratio_180d</th>\n",
       "      <th>no_lic_inquiry_detail_org_count_ratio_360d</th>\n",
       "      <th>tag</th>\n",
       "    </tr>\n",
       "  </thead>\n",
       "  <tbody>\n",
       "    <tr>\n",
       "      <td>0</td>\n",
       "      <td>000147be-15e3-4f87-b451-0ac3b51c67a2</td>\n",
       "      <td>39.0</td>\n",
       "      <td>3.0</td>\n",
       "      <td>10.0</td>\n",
       "      <td>11.0</td>\n",
       "      <td>12.0</td>\n",
       "      <td>21.0</td>\n",
       "      <td>21.0</td>\n",
       "      <td>25.0</td>\n",
       "      <td>28.0</td>\n",
       "      <td>...</td>\n",
       "      <td>1.0</td>\n",
       "      <td>1.0</td>\n",
       "      <td>1.0</td>\n",
       "      <td>1.0</td>\n",
       "      <td>1.0</td>\n",
       "      <td>1.0</td>\n",
       "      <td>1.0</td>\n",
       "      <td>1.0</td>\n",
       "      <td>1.0</td>\n",
       "      <td>1.0</td>\n",
       "    </tr>\n",
       "  </tbody>\n",
       "</table>\n",
       "<p>1 rows × 465 columns</p>\n",
       "</div>"
      ],
      "text/plain": [
       "                                user_id  org_count  org_count_1d  \\\n",
       "0  000147be-15e3-4f87-b451-0ac3b51c67a2       39.0           3.0   \n",
       "\n",
       "   org_count_3d  org_count_5d  org_count_7d  org_count_15d  org_count_30d  \\\n",
       "0          10.0          11.0          12.0           21.0           21.0   \n",
       "\n",
       "   org_count_60d  org_count_90d  ...  \\\n",
       "0           25.0           28.0  ...   \n",
       "\n",
       "   no_lic_inquiry_detail_org_count_ratio_3d  \\\n",
       "0                                       1.0   \n",
       "\n",
       "   no_lic_inquiry_detail_org_count_ratio_5d  \\\n",
       "0                                       1.0   \n",
       "\n",
       "   no_lic_inquiry_detail_org_count_ratio_7d  \\\n",
       "0                                       1.0   \n",
       "\n",
       "   no_lic_inquiry_detail_org_count_ratio_15d  \\\n",
       "0                                        1.0   \n",
       "\n",
       "   no_lic_inquiry_detail_org_count_ratio_30d  \\\n",
       "0                                        1.0   \n",
       "\n",
       "   no_lic_inquiry_detail_org_count_ratio_60d  \\\n",
       "0                                        1.0   \n",
       "\n",
       "   no_lic_inquiry_detail_org_count_ratio_90d  \\\n",
       "0                                        1.0   \n",
       "\n",
       "   no_lic_inquiry_detail_org_count_ratio_180d  \\\n",
       "0                                         1.0   \n",
       "\n",
       "   no_lic_inquiry_detail_org_count_ratio_360d  tag  \n",
       "0                                         1.0  1.0  \n",
       "\n",
       "[1 rows x 465 columns]"
      ]
     },
     "execution_count": 35,
     "metadata": {},
     "output_type": "execute_result"
    }
   ],
   "source": [
    "print(data.shape)\n",
    "data[:1]"
   ]
  },
  {
   "cell_type": "code",
   "execution_count": 36,
   "metadata": {},
   "outputs": [
    {
     "data": {
      "text/plain": [
       "0.0    156027\n",
       "1.0     50813\n",
       "0.5     40704\n",
       "Name: tag, dtype: int64"
      ]
     },
     "execution_count": 36,
     "metadata": {},
     "output_type": "execute_result"
    }
   ],
   "source": [
    "data['tag'].value_counts()"
   ]
  },
  {
   "cell_type": "code",
   "execution_count": null,
   "metadata": {},
   "outputs": [],
   "source": []
  },
  {
   "cell_type": "code",
   "execution_count": null,
   "metadata": {},
   "outputs": [],
   "source": []
  },
  {
   "cell_type": "code",
   "execution_count": 19,
   "metadata": {},
   "outputs": [
    {
     "name": "stdout",
     "output_type": "stream",
     "text": [
      "(247544, 464)\n"
     ]
    }
   ],
   "source": [
    "X = data.drop(['tag'],axis=1).values\n",
    "y = data['tag'].values\n",
    "print(X.shape)\n",
    "print(y.shape)"
   ]
  },
  {
   "cell_type": "code",
   "execution_count": null,
   "metadata": {},
   "outputs": [],
   "source": [
    "from sklearn.model_selection import train_test_split"
   ]
  },
  {
   "cell_type": "code",
   "execution_count": null,
   "metadata": {},
   "outputs": [],
   "source": [
    "X_train, X_test, y_train, y_test = train_test_split(X, y, test_size=0.3, random_state=1,stratify=y)\n",
    "print('Labels counts in y:', np.bincount(y))\n",
    "print('Labels counts in y_test:', np.bincount(y_test))"
   ]
  }
 ],
 "metadata": {
  "kernelspec": {
   "display_name": "Python 3",
   "language": "python",
   "name": "python3"
  },
  "language_info": {
   "codemirror_mode": {
    "name": "ipython",
    "version": 3
   },
   "file_extension": ".py",
   "mimetype": "text/x-python",
   "name": "python",
   "nbconvert_exporter": "python",
   "pygments_lexer": "ipython3",
   "version": "3.7.4"
  }
 },
 "nbformat": 4,
 "nbformat_minor": 1
}
